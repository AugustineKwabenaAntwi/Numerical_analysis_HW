{
  "nbformat": 4,
  "nbformat_minor": 0,
  "metadata": {
    "colab": {
      "provenance": [],
      "authorship_tag": "ABX9TyPFXNG7OWyawzH4UQD/XI2E",
      "include_colab_link": true
    },
    "kernelspec": {
      "name": "python3",
      "display_name": "Python 3"
    },
    "language_info": {
      "name": "python"
    }
  },
  "cells": [
    {
      "cell_type": "markdown",
      "metadata": {
        "id": "view-in-github",
        "colab_type": "text"
      },
      "source": [
        "<a href=\"https://colab.research.google.com/github/AugustineKwabenaAntwi/Numerical_analysis_HW/blob/main/Numerical_Hw6.ipynb\" target=\"_parent\"><img src=\"https://colab.research.google.com/assets/colab-badge.svg\" alt=\"Open In Colab\"/></a>"
      ]
    },
    {
      "cell_type": "code",
      "execution_count": null,
      "metadata": {
        "colab": {
          "base_uri": "https://localhost:8080/"
        },
        "id": "gv3db4bdf8CH",
        "outputId": "b8cb61d5-883a-42f6-d0e5-027376385d33"
      },
      "outputs": [
        {
          "output_type": "stream",
          "name": "stdout",
          "text": [
            "P(2.5) by Lagrange: 23.46875000\n",
            "P(2.5) by Neville : 23.46875000\n",
            "P(2.5) by Newton  : 23.46875000\n"
          ]
        }
      ],
      "source": [
        "#!/usr/bin/env python3\n",
        "\"\"\"\n",
        "Hw6\n",
        "Augustine Antwi\n",
        "Q4\n",
        "Interpolations (Lagrange, Neville, Newton DD)\n",
        "    x = [1, 2, 3, 4, 5]\n",
        "    y = [22, 23, 25, 30, 28]\n",
        "\"\"\"\n",
        "\n",
        "import numpy as np\n",
        "from matplotlib.pyplot import plot, show\n",
        "\n",
        "# ----------------- Lagrange -----------------\n",
        "\n",
        "def Lagrange_basis(xns, n, i, x):\n",
        "    r = 1.0\n",
        "    for j in range(i):\n",
        "        r = r * (x - xns[j]) / (xns[i] - xns[j])\n",
        "    for j in range(i + 1, n + 1):\n",
        "        r = r * (x - xns[j]) / (xns[i] - xns[j])\n",
        "    return r\n",
        "\n",
        "def Lagrange_poly(xns, yns, n, x):\n",
        "    s = 0.0\n",
        "    for i in range(n + 1):\n",
        "        s = s + yns[i] * Lagrange_basis(xns, n, i, x)\n",
        "    return s\n",
        "\n",
        "# ----------------- Neville -----------------\n",
        "\n",
        "def Neville_matrix(xns, yns, n, x):\n",
        "    \"\"\"\n",
        "  Neville's table Q for evaluating P(x).\n",
        "    \"\"\"\n",
        "    Q = np.zeros((n + 1, n + 1), dtype=float)\n",
        "    for i in range(n + 1):\n",
        "        Q[i, 0] = yns[i]\n",
        "    for j in range(1, n + 1):\n",
        "        for i in range(j, n + 1):\n",
        "            Q[i, j] = ((x - xns[i - j]) * Q[i, j - 1]\n",
        "                       - (x - xns[i]) * Q[i - 1, j - 1]) / (xns[i] - xns[i - j])\n",
        "    return Q\n",
        "\n",
        "def Neville_eval(xns, yns, n, x):\n",
        "    \"\"\"returns the interpolated value P(x).\"\"\"\n",
        "    Q = Neville_matrix(xns, yns, n, x)\n",
        "    return Q[n, n]\n",
        "\n",
        "# ----------------- Newton (Divided Differences) -----------------\n",
        "\n",
        "def NewtonDD_matrix(xns, yns, n):\n",
        "    \"\"\"\n",
        "    divided difference table F.\n",
        "    Diagonal F[i,i] are the Newton coefficients.\n",
        "    \"\"\"\n",
        "    F = np.zeros((n + 1, n + 1), dtype=float)\n",
        "    for i in range(n + 1):\n",
        "        F[i, 0] = yns[i]\n",
        "    for j in range(1, n + 1):\n",
        "        for i in range(j, n + 1):\n",
        "            F[i, j] = (F[i, j - 1] - F[i - 1, j - 1]) / (xns[i] - xns[i - j])\n",
        "    return F\n",
        "\n",
        "def Newton_eval_from_table(F, xns, n, x):\n",
        "    \"\"\"\n",
        "    Horner-like evaluation of the Newton form using F's diagonal.\n",
        "    where a_k = F[k,k].\n",
        "    \"\"\"\n",
        "    p = F[n, n]\n",
        "    for k in range(n - 1, -1, -1):\n",
        "        p = p * (x - xns[k]) + F[k, k]\n",
        "    return p\n",
        "\n",
        "def NewtonDD_poly(xns, yns, n, x):\n",
        "    F = NewtonDD_matrix(xns, yns, n)\n",
        "    return Newton_eval_from_table(F, xns, n, x)\n",
        "\n",
        "# ----------------- Test -----------------\n",
        "\n",
        "if __name__ == '__main__':\n",
        "    xns = np.array([1., 2., 3., 4., 5.])\n",
        "    yns = np.array([22., 23., 25., 30., 28.])\n",
        "    n = len(xns) - 1\n",
        "\n",
        "    # Evaluate at x = 2.5\n",
        "    x = 2.5\n",
        "\n",
        "    # Lagrange\n",
        "    y_lagrange = Lagrange_poly(xns, yns, n, x)\n",
        "\n",
        "    # Neville\n",
        "    y_neville = Neville_eval(xns, yns, n, x)\n",
        "\n",
        "    # Newton Divided Differences\n",
        "    y_newton = NewtonDD_poly(xns, yns, n, x)\n",
        "\n",
        "    print(f\"P({x}) by Lagrange: {y_lagrange:.8f}\")\n",
        "    print(f\"P({x}) by Neville : {y_neville:.8f}\")\n",
        "    print(f\"P({x}) by Newton  : {y_newton:.8f}\")\n"
      ]
    }
  ]
}